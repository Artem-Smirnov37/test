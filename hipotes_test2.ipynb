{
 "cells": [
  {
   "cell_type": "code",
   "execution_count": 148,
   "metadata": {},
   "outputs": [],
   "source": [
    "import pandas as pd\n",
    "import numpy as np\n",
    "\n",
    "from statsmodels.stats.weightstats import ztest\n",
    "from datetime import date\n",
    "from statsmodels.stats.multitest import multipletests"
   ]
  },
  {
   "attachments": {},
   "cell_type": "markdown",
   "metadata": {},
   "source": [
    "По каждому товару в каждом магазине есть OKR на полгода. Для упрощения задачи представим, что по всем товарам OKR одинаковый — 15 единиц за полгода.\n",
    "\n",
    "Проверяем гипотезу о том, что если в основном OKR были выполнены по магазину в первом полугодии, то они выполняются и во втором.\n",
    "\n",
    "Тогда:\n",
    "\n",
    "H0: нет статистически значимых различий между числом достигнутых OKR в первом и втором полугодиях.\n",
    "H1: различия есть."
   ]
  },
  {
   "cell_type": "code",
   "execution_count": 149,
   "metadata": {},
   "outputs": [
    {
     "data": {
      "text/html": [
       "<div>\n",
       "<style scoped>\n",
       "    .dataframe tbody tr th:only-of-type {\n",
       "        vertical-align: middle;\n",
       "    }\n",
       "\n",
       "    .dataframe tbody tr th {\n",
       "        vertical-align: top;\n",
       "    }\n",
       "\n",
       "    .dataframe thead th {\n",
       "        text-align: right;\n",
       "    }\n",
       "</style>\n",
       "<table border=\"1\" class=\"dataframe\">\n",
       "  <thead>\n",
       "    <tr style=\"text-align: right;\">\n",
       "      <th></th>\n",
       "      <th>product_id</th>\n",
       "      <th>store_id</th>\n",
       "      <th>date</th>\n",
       "      <th>sales</th>\n",
       "    </tr>\n",
       "  </thead>\n",
       "  <tbody>\n",
       "    <tr>\n",
       "      <th>0</th>\n",
       "      <td>4</td>\n",
       "      <td>6</td>\n",
       "      <td>1997-01-01</td>\n",
       "      <td>4</td>\n",
       "    </tr>\n",
       "    <tr>\n",
       "      <th>1</th>\n",
       "      <td>25</td>\n",
       "      <td>6</td>\n",
       "      <td>1997-01-01</td>\n",
       "      <td>3</td>\n",
       "    </tr>\n",
       "    <tr>\n",
       "      <th>2</th>\n",
       "      <td>48</td>\n",
       "      <td>6</td>\n",
       "      <td>1997-01-01</td>\n",
       "      <td>3</td>\n",
       "    </tr>\n",
       "    <tr>\n",
       "      <th>3</th>\n",
       "      <td>76</td>\n",
       "      <td>6</td>\n",
       "      <td>1997-01-01</td>\n",
       "      <td>4</td>\n",
       "    </tr>\n",
       "    <tr>\n",
       "      <th>4</th>\n",
       "      <td>119</td>\n",
       "      <td>6</td>\n",
       "      <td>1997-01-01</td>\n",
       "      <td>3</td>\n",
       "    </tr>\n",
       "  </tbody>\n",
       "</table>\n",
       "</div>"
      ],
      "text/plain": [
       "   product_id  store_id        date  sales\n",
       "0           4         6  1997-01-01      4\n",
       "1          25         6  1997-01-01      3\n",
       "2          48         6  1997-01-01      3\n",
       "3          76         6  1997-01-01      4\n",
       "4         119         6  1997-01-01      3"
      ]
     },
     "execution_count": 149,
     "metadata": {},
     "output_type": "execute_result"
    }
   ],
   "source": [
    "sales = pd.read_csv('/Users/yanaprynik/Downloads/8_модуль.csv',sep=';')\n",
    "products = pd.read_csv('/Users/yanaprynik/Downloads/products.csv')\n",
    "\n",
    "sales.head()\n"
   ]
  },
  {
   "cell_type": "code",
   "execution_count": 150,
   "metadata": {},
   "outputs": [
    {
     "name": "stdout",
     "output_type": "stream",
     "text": [
      "<class 'pandas.core.frame.DataFrame'>\n",
      "Int64Index: 83391 entries, 0 to 83390\n",
      "Data columns (total 5 columns):\n",
      " #   Column        Non-Null Count  Dtype         \n",
      "---  ------        --------------  -----         \n",
      " 0   product_id    83391 non-null  int64         \n",
      " 1   store_id      83391 non-null  int64         \n",
      " 2   date          83391 non-null  datetime64[ns]\n",
      " 3   sales         83391 non-null  int64         \n",
      " 4   product_name  83391 non-null  object        \n",
      "dtypes: datetime64[ns](1), int64(3), object(1)\n",
      "memory usage: 3.8+ MB\n"
     ]
    }
   ],
   "source": [
    "sales = sales.merge(products[['product_id', 'product_name']], on='product_id', how='inner')\n",
    "sales['date'] = pd.to_datetime(sales['date'])\n",
    "sales.info()"
   ]
  },
  {
   "attachments": {},
   "cell_type": "markdown",
   "metadata": {},
   "source": [
    "сделаем еще один столбец, для различия полугодий"
   ]
  },
  {
   "cell_type": "code",
   "execution_count": 151,
   "metadata": {},
   "outputs": [
    {
     "name": "stderr",
     "output_type": "stream",
     "text": [
      "/var/folders/cn/scf3zm9942105gh6p3bt09_00000gn/T/ipykernel_9847/2093670196.py:3: FutureWarning: Comparison of Timestamp with datetime.date is deprecated in order to match the standard library behavior. In a future version these will be considered non-comparable. Use 'ts == pd.Timestamp(date)' or 'ts.date() == date' instead.\n",
      "  if i<date(1997,7,1):\n"
     ]
    }
   ],
   "source": [
    "half=[]\n",
    "for i in sales['date']:\n",
    "    if i<date(1997,7,1):\n",
    "        half.append('1')\n",
    "    else:\n",
    "        half.append('2')\n",
    "sales['half_year'] = half"
   ]
  },
  {
   "attachments": {},
   "cell_type": "markdown",
   "metadata": {},
   "source": [
    "Сгруппируем таблицу по необходимым показателям"
   ]
  },
  {
   "cell_type": "code",
   "execution_count": 152,
   "metadata": {},
   "outputs": [
    {
     "name": "stdout",
     "output_type": "stream",
     "text": [
      "<class 'pandas.core.frame.DataFrame'>\n",
      "RangeIndex: 31607 entries, 0 to 31606\n",
      "Data columns (total 4 columns):\n",
      " #   Column        Non-Null Count  Dtype \n",
      "---  ------        --------------  ----- \n",
      " 0   store_id      31607 non-null  int64 \n",
      " 1   product_name  31607 non-null  object\n",
      " 2   half_year     31607 non-null  object\n",
      " 3   sales         31607 non-null  int64 \n",
      "dtypes: int64(2), object(2)\n",
      "memory usage: 987.8+ KB\n"
     ]
    }
   ],
   "source": [
    "new_df = sales.groupby(['store_id', 'product_name', 'half_year'])['sales'].sum().reset_index()\n",
    "new_df.info()"
   ]
  },
  {
   "attachments": {},
   "cell_type": "markdown",
   "metadata": {},
   "source": [
    "Сделаем столбец с выполнением плана (0 - не выполнено, 1 - выполнено)"
   ]
  },
  {
   "cell_type": "code",
   "execution_count": 153,
   "metadata": {},
   "outputs": [
    {
     "data": {
      "text/html": [
       "<div>\n",
       "<style scoped>\n",
       "    .dataframe tbody tr th:only-of-type {\n",
       "        vertical-align: middle;\n",
       "    }\n",
       "\n",
       "    .dataframe tbody tr th {\n",
       "        vertical-align: top;\n",
       "    }\n",
       "\n",
       "    .dataframe thead th {\n",
       "        text-align: right;\n",
       "    }\n",
       "</style>\n",
       "<table border=\"1\" class=\"dataframe\">\n",
       "  <thead>\n",
       "    <tr style=\"text-align: right;\">\n",
       "      <th></th>\n",
       "      <th>store_id</th>\n",
       "      <th>product_name</th>\n",
       "      <th>half_year</th>\n",
       "      <th>sales</th>\n",
       "      <th>okr</th>\n",
       "    </tr>\n",
       "  </thead>\n",
       "  <tbody>\n",
       "    <tr>\n",
       "      <th>0</th>\n",
       "      <td>2</td>\n",
       "      <td>ADJ Rosy Sunglasses</td>\n",
       "      <td>1</td>\n",
       "      <td>3</td>\n",
       "      <td>0</td>\n",
       "    </tr>\n",
       "    <tr>\n",
       "      <th>1</th>\n",
       "      <td>2</td>\n",
       "      <td>Akron City Map</td>\n",
       "      <td>1</td>\n",
       "      <td>1</td>\n",
       "      <td>0</td>\n",
       "    </tr>\n",
       "    <tr>\n",
       "      <th>2</th>\n",
       "      <td>2</td>\n",
       "      <td>Akron Eyeglass Screwdriver</td>\n",
       "      <td>1</td>\n",
       "      <td>1</td>\n",
       "      <td>0</td>\n",
       "    </tr>\n",
       "    <tr>\n",
       "      <th>3</th>\n",
       "      <td>2</td>\n",
       "      <td>Akron Eyeglass Screwdriver</td>\n",
       "      <td>2</td>\n",
       "      <td>2</td>\n",
       "      <td>0</td>\n",
       "    </tr>\n",
       "    <tr>\n",
       "      <th>4</th>\n",
       "      <td>2</td>\n",
       "      <td>American Beef Bologna</td>\n",
       "      <td>1</td>\n",
       "      <td>4</td>\n",
       "      <td>0</td>\n",
       "    </tr>\n",
       "  </tbody>\n",
       "</table>\n",
       "</div>"
      ],
      "text/plain": [
       "   store_id                product_name half_year  sales  okr\n",
       "0         2         ADJ Rosy Sunglasses         1      3    0\n",
       "1         2              Akron City Map         1      1    0\n",
       "2         2  Akron Eyeglass Screwdriver         1      1    0\n",
       "3         2  Akron Eyeglass Screwdriver         2      2    0\n",
       "4         2       American Beef Bologna         1      4    0"
      ]
     },
     "execution_count": 153,
     "metadata": {},
     "output_type": "execute_result"
    }
   ],
   "source": [
    "okr = []\n",
    "\n",
    "for i in new_df['sales']:\n",
    "    if i >= 15:\n",
    "        okr.append(1)\n",
    "    else:\n",
    "        okr.append(0)\n",
    "        \n",
    "new_df['okr'] = okr\n",
    "new_df.head()"
   ]
  },
  {
   "attachments": {},
   "cell_type": "markdown",
   "metadata": {},
   "source": [
    "посчитаем p-value для каждого магазина и кол-во выполненого плана"
   ]
  },
  {
   "cell_type": "code",
   "execution_count": 154,
   "metadata": {},
   "outputs": [
    {
     "name": "stderr",
     "output_type": "stream",
     "text": [
      "/Library/Frameworks/Python.framework/Versions/3.11/lib/python3.11/site-packages/statsmodels/stats/weightstats.py:748: RuntimeWarning: invalid value encountered in scalar divide\n",
      "  zstat = (value1 - value2 - diff) / std_diff\n"
     ]
    },
    {
     "data": {
      "text/html": [
       "<div>\n",
       "<style scoped>\n",
       "    .dataframe tbody tr th:only-of-type {\n",
       "        vertical-align: middle;\n",
       "    }\n",
       "\n",
       "    .dataframe tbody tr th {\n",
       "        vertical-align: top;\n",
       "    }\n",
       "\n",
       "    .dataframe thead th {\n",
       "        text-align: right;\n",
       "    }\n",
       "</style>\n",
       "<table border=\"1\" class=\"dataframe\">\n",
       "  <thead>\n",
       "    <tr style=\"text-align: right;\">\n",
       "      <th></th>\n",
       "      <th>store_id</th>\n",
       "      <th>first_half</th>\n",
       "      <th>second_half</th>\n",
       "      <th>p_value</th>\n",
       "    </tr>\n",
       "  </thead>\n",
       "  <tbody>\n",
       "    <tr>\n",
       "      <th>0</th>\n",
       "      <td>2</td>\n",
       "      <td>0</td>\n",
       "      <td>0</td>\n",
       "      <td>NaN</td>\n",
       "    </tr>\n",
       "    <tr>\n",
       "      <th>1</th>\n",
       "      <td>3</td>\n",
       "      <td>155</td>\n",
       "      <td>173</td>\n",
       "      <td>0.427237</td>\n",
       "    </tr>\n",
       "    <tr>\n",
       "      <th>2</th>\n",
       "      <td>6</td>\n",
       "      <td>85</td>\n",
       "      <td>142</td>\n",
       "      <td>0.000623</td>\n",
       "    </tr>\n",
       "    <tr>\n",
       "      <th>3</th>\n",
       "      <td>7</td>\n",
       "      <td>153</td>\n",
       "      <td>225</td>\n",
       "      <td>0.000313</td>\n",
       "    </tr>\n",
       "    <tr>\n",
       "      <th>4</th>\n",
       "      <td>11</td>\n",
       "      <td>205</td>\n",
       "      <td>172</td>\n",
       "      <td>0.090413</td>\n",
       "    </tr>\n",
       "    <tr>\n",
       "      <th>5</th>\n",
       "      <td>13</td>\n",
       "      <td>626</td>\n",
       "      <td>609</td>\n",
       "      <td>0.503724</td>\n",
       "    </tr>\n",
       "    <tr>\n",
       "      <th>6</th>\n",
       "      <td>14</td>\n",
       "      <td>0</td>\n",
       "      <td>0</td>\n",
       "      <td>NaN</td>\n",
       "    </tr>\n",
       "    <tr>\n",
       "      <th>7</th>\n",
       "      <td>15</td>\n",
       "      <td>159</td>\n",
       "      <td>188</td>\n",
       "      <td>0.133241</td>\n",
       "    </tr>\n",
       "    <tr>\n",
       "      <th>8</th>\n",
       "      <td>16</td>\n",
       "      <td>113</td>\n",
       "      <td>162</td>\n",
       "      <td>0.004140</td>\n",
       "    </tr>\n",
       "    <tr>\n",
       "      <th>9</th>\n",
       "      <td>17</td>\n",
       "      <td>387</td>\n",
       "      <td>517</td>\n",
       "      <td>0.000001</td>\n",
       "    </tr>\n",
       "    <tr>\n",
       "      <th>10</th>\n",
       "      <td>22</td>\n",
       "      <td>0</td>\n",
       "      <td>0</td>\n",
       "      <td>NaN</td>\n",
       "    </tr>\n",
       "    <tr>\n",
       "      <th>11</th>\n",
       "      <td>23</td>\n",
       "      <td>12</td>\n",
       "      <td>7</td>\n",
       "      <td>0.267096</td>\n",
       "    </tr>\n",
       "    <tr>\n",
       "      <th>12</th>\n",
       "      <td>24</td>\n",
       "      <td>176</td>\n",
       "      <td>220</td>\n",
       "      <td>0.018637</td>\n",
       "    </tr>\n",
       "  </tbody>\n",
       "</table>\n",
       "</div>"
      ],
      "text/plain": [
       "    store_id  first_half  second_half   p_value\n",
       "0          2           0            0       NaN\n",
       "1          3         155          173  0.427237\n",
       "2          6          85          142  0.000623\n",
       "3          7         153          225  0.000313\n",
       "4         11         205          172  0.090413\n",
       "5         13         626          609  0.503724\n",
       "6         14           0            0       NaN\n",
       "7         15         159          188  0.133241\n",
       "8         16         113          162  0.004140\n",
       "9         17         387          517  0.000001\n",
       "10        22           0            0       NaN\n",
       "11        23          12            7  0.267096\n",
       "12        24         176          220  0.018637"
      ]
     },
     "execution_count": 154,
     "metadata": {},
     "output_type": "execute_result"
    }
   ],
   "source": [
    "test = {\n",
    "    'store_id': [],\n",
    "    'first_half': [],\n",
    "    'second_half': [],\n",
    "    'p_value': []\n",
    "    }\n",
    "\n",
    "for store, group in new_df.groupby('store_id'):\n",
    "    first_half = group[group['half_year']=='1']['okr'].values\n",
    "    second_half = group[group['half_year']=='2']['okr'].values\n",
    "    \n",
    "    statistic, p_value = ztest(first_half, second_half)\n",
    "\n",
    "    test[\"store_id\"].append(store)\n",
    "    test[\"first_half\"].append(np.sum(first_half))\n",
    "    test[\"second_half\"].append(np.sum(second_half))\n",
    "    test[\"p_value\"].append(p_value)\n",
    "    \n",
    "df_test = pd.DataFrame(test)\n",
    "df_test"
   ]
  },
  {
   "attachments": {},
   "cell_type": "markdown",
   "metadata": {},
   "source": [
    "посмотрим сколько гипотез Н0 опровергнуть"
   ]
  },
  {
   "cell_type": "code",
   "execution_count": 155,
   "metadata": {},
   "outputs": [
    {
     "data": {
      "text/plain": [
       "(5, 4)"
      ]
     },
     "execution_count": 155,
     "metadata": {},
     "output_type": "execute_result"
    }
   ],
   "source": [
    "df_test[df_test.p_value <= 0.05].shape"
   ]
  },
  {
   "attachments": {},
   "cell_type": "markdown",
   "metadata": {},
   "source": [
    "Далее скорректируем методом Бонферрони наши гипотезы "
   ]
  },
  {
   "cell_type": "code",
   "execution_count": 156,
   "metadata": {},
   "outputs": [
    {
     "data": {
      "text/plain": [
       "3"
      ]
     },
     "execution_count": 156,
     "metadata": {},
     "output_type": "execute_result"
    }
   ],
   "source": [
    "multipletests(df_test.p_value, alpha=0.05, method= 'bonferroni')[0].sum()"
   ]
  },
  {
   "attachments": {},
   "cell_type": "markdown",
   "metadata": {},
   "source": [
    "с помощью метода Холма-Бонферрони еще раз посмотрим "
   ]
  },
  {
   "cell_type": "code",
   "execution_count": 157,
   "metadata": {},
   "outputs": [
    {
     "data": {
      "text/plain": [
       "4"
      ]
     },
     "execution_count": 157,
     "metadata": {},
     "output_type": "execute_result"
    }
   ],
   "source": [
    "multipletests(df_test.p_value, alpha=0.05, method= 'holm')[0].sum()"
   ]
  },
  {
   "attachments": {},
   "cell_type": "markdown",
   "metadata": {},
   "source": [
    "Таким образом видим, что примерно 3-4 теории H0 можно опровергнуть, что довольно значимый показатель для 13 гипотез. Из таблицы видим, что 3 магазина почти ничего не продали, скорее всего только открываются или уже закрыты. Поэтому множно выдвинуть гипотезу, что почит половина магазинов имеет статистические различия и не сможет выполнить план в каком-то из полугодий. "
   ]
  }
 ],
 "metadata": {
  "kernelspec": {
   "display_name": "Python 3",
   "language": "python",
   "name": "python3"
  },
  "language_info": {
   "codemirror_mode": {
    "name": "ipython",
    "version": 3
   },
   "file_extension": ".py",
   "mimetype": "text/x-python",
   "name": "python",
   "nbconvert_exporter": "python",
   "pygments_lexer": "ipython3",
   "version": "3.11.1"
  },
  "orig_nbformat": 4
 },
 "nbformat": 4,
 "nbformat_minor": 2
}
